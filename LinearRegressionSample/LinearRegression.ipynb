{
 "cells": [
  {
   "cell_type": "code",
   "execution_count": 397,
   "metadata": {},
   "outputs": [],
   "source": [
    "import numpy as np\n",
    "import matplotlib.pyplot as plt\n",
    "\n",
    "input_data = np.loadtxt('linear_train_data.csv',delimiter=\",\")\n",
    "test_data = np.loadtxt('linear_test_data.csv',delimiter=\",\")\n",
    "\n",
    "input_x = input_data[:,0]\n",
    "input_y = input_data[:,1]\n",
    "\n",
    "test_x = test_data[:,0]\n",
    "test_y = test_data[:,1]\n",
    "\n",
    "input_len = float(len(input_data))\n",
    "test_len = float(len(test_data))\n",
    "\n",
    "best_w = 0.0\n",
    "best_b = 0.0\n",
    "min_error = 1000.0"
   ]
  },
  {
   "cell_type": "code",
   "execution_count": 398,
   "metadata": {},
   "outputs": [],
   "source": [
    "def compute_error(x, y, w, b, n):\n",
    "    total_error = (y - w * x - b)**2\n",
    "    total_error = np.sum(total_error)\n",
    "#     print (total_error, n)\n",
    "    return total_error/n"
   ]
  },
  {
   "cell_type": "code",
   "execution_count": 399,
   "metadata": {},
   "outputs": [],
   "source": [
    "def update_best(w, b):\n",
    "    global min_error\n",
    "    global best_w\n",
    "    global best_b\n",
    "    test_error = compute_error(test_x, test_y, w, b, test_len)\n",
    "    if test_error < min_error:\n",
    "        min_error = test_error\n",
    "        best_w = w\n",
    "        best_b = b"
   ]
  },
  {
   "cell_type": "code",
   "execution_count": 400,
   "metadata": {},
   "outputs": [],
   "source": [
    "def sgd(current_w, current_b, learing_rate):\n",
    "    w_gd = 0.0\n",
    "    b_gd = 0.0\n",
    "    \n",
    "    #update w,b with gradiention\n",
    "    w_gd = -(2.0/input_len) * input_x * (input_y - current_w * input_x - current_b)\n",
    "    b_gd = - (2.0/input_len) * (input_y - current_w * input_x - current_b)\n",
    "    \n",
    "    w_gd = np.sum(w_gd)\n",
    "    b_gd = np.sum(b_gd)\n",
    "    \n",
    "    new_w = current_w - learing_rate * w_gd\n",
    "    new_b = current_b - 10*learing_rate * b_gd\n",
    "    \n",
    "    return new_w, new_b\n",
    "    "
   ]
  },
  {
   "cell_type": "code",
   "execution_count": 401,
   "metadata": {},
   "outputs": [],
   "source": [
    "def optimizer(init_w, init_b, learning_rate, num_iter):\n",
    "    w = init_w\n",
    "    b = init_b\n",
    "    \n",
    "    for i in range(num_iter):\n",
    "        w, b = sgd(w, b, learning_rate)\n",
    "        update_best(w, b)\n",
    "        if i % 10000 == 0:\n",
    "            print ('iter {0}: w= {1}, b= {2}, train_loss: {3}, valid_loss: {4}' \\\n",
    "                   .format(i, w, b, compute_error(input_x, input_y, w, b, input_len), compute_error(test_x, test_y, w, b, test_len)));\n",
    "    print(w, b)\n",
    "    "
   ]
  },
  {
   "cell_type": "code",
   "execution_count": 402,
   "metadata": {},
   "outputs": [],
   "source": [
    "def linear_regression():\n",
    "    learning_rate = 1e-5\n",
    "    num_iter = 100000\n",
    "    \n",
    "    #training\n",
    "    optimizer(best_w, best_b, learning_rate, num_iter)\n",
    "     \n",
    "    #print final loss\n",
    "    print ('final formula parmaters:\\n w = {1}\\n b={2}\\n loss of end = {3} \\n'.format(num_iter, best_w, \\\n",
    "                                                                                       best_b,compute_error(test_x, test_y, best_w, best_b, test_len)))\n",
    "\n",
    "    #plot result\n",
    "    plot_data()\n",
    "    \n"
   ]
  },
  {
   "cell_type": "code",
   "execution_count": 403,
   "metadata": {},
   "outputs": [],
   "source": [
    "def plot_data():\n",
    "\n",
    "    #plottting\n",
    "    y_predict = best_w * test_x + best_b\n",
    "    plt.scatter(test_x, test_y)\n",
    "    plt.plot(test_x, y_predict, 'kp-')\n",
    "    plt.show()"
   ]
  },
  {
   "cell_type": "code",
   "execution_count": 404,
   "metadata": {},
   "outputs": [
    {
     "name": "stdout",
     "output_type": "stream",
     "text": [
      "iter 0: w= 0.1988356312425975, b= 0.030046498363985576, train_loss: 26318.998699004263, valid_loss: 26167.308387072826\n",
      "iter 10000: w= 3.013303956548068, b= 1.1203727561545376, train_loss: 25.18651599362221, valid_loss: 25.008127106805915\n",
      "iter 20000: w= 3.0072967261443457, b= 1.5190362153343855, train_loss: 25.02377212697439, valid_loss: 24.860846252058693\n",
      "iter 30000: w= 3.0036939159936282, b= 1.7581328806734016, train_loss: 24.96523400209002, valid_loss: 24.811668381472792\n",
      "iter 40000: w= 3.0015331463693986, b= 1.9015300595717366, train_loss: 24.944178142133147, valid_loss: 24.796257363718976\n",
      "iter 50000: w= 3.000237234241456, b= 1.987531890198875, train_loss: 24.93660445849706, valid_loss: 24.79208032544474\n",
      "iter 60000: w= 2.99946001661283, b= 2.039111111826811, train_loss: 24.933880243768385, valid_loss: 24.791397253841076\n",
      "iter 70000: w= 2.998993883740684, b= 2.0700455243194655, train_loss: 24.932900357857573, valid_loss: 24.79164298053699\n",
      "iter 80000: w= 2.9987143225901223, b= 2.0885983028621427, train_loss: 24.9325478979769, valid_loss: 24.792026096554782\n",
      "iter 90000: w= 2.9985466570132595, b= 2.099725250617653, train_loss: 24.932421119985587, valid_loss: 24.792340664067464\n",
      "2.99844610802 2.10639807762\n",
      "final formula parmaters:\n",
      " w = 2.99946001661283\n",
      " b=2.039111111826811\n",
      " loss of end = 24.791397253841076 \n",
      "\n"
     ]
    },
    {
     "data": {
      "image/png": "[encoded data removed]",
      "text/plain": [
       "<matplotlib.figure.Figure at 0x1084514e0>"
      ]
     },
     "metadata": {},
     "output_type": "display_data"
    }
   ],
   "source": [
    "if __name__ =='__main__':\n",
    "    linear_regression()"
   ]
  },
  {
   "cell_type": "code",
   "execution_count": null,
   "metadata": {},
   "outputs": [],
   "source": []
  },
  {
   "cell_type": "code",
   "execution_count": null,
   "metadata": {},
   "outputs": [],
   "source": []
  }
 ],
 "metadata": {
  "kernelspec": {
   "display_name": "Python 3",
   "language": "python",
   "name": "python3"
  },
  "language_info": {
   "codemirror_mode": {
    "name": "ipython",
    "version": 3
   },
   "file_extension": ".py",
   "mimetype": "text/x-python",
   "name": "python",
   "nbconvert_exporter": "python",
   "pygments_lexer": "ipython3",
   "version": "3.6.3"
  }
 },
 "nbformat": 4,
 "nbformat_minor": 2
}
