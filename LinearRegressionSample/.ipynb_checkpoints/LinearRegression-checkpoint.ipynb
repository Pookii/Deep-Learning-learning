{
 "cells": [
  {
   "cell_type": "code",
   "execution_count": 31,
   "metadata": {},
   "outputs": [],
   "source": [
    "import numpy as np\n",
    "import matplotlib.pyplot as plt"
   ]
  },
  {
   "cell_type": "code",
   "execution_count": 78,
   "metadata": {},
   "outputs": [],
   "source": [
    "def compute_error(data, w, b):\n",
    "    x = data[:,0]\n",
    "    y = data[:,1]\n",
    "    total_error = (y - w*x - b)**2\n",
    "    total_error = np.sum(total_error)\n",
    "    return total_error/(float(len(data)))"
   ]
  },
  {
   "cell_type": "code",
   "execution_count": 79,
   "metadata": {},
   "outputs": [],
   "source": [
    "def sgd(data, current_w, current_b, learing_rate):\n",
    "    w_gd = 0.0\n",
    "    b_gd = 0.0\n",
    "    \n",
    "    #update w,b with gradiention\n",
    "    #lost_function = \n",
    "    N = float(len(data))\n",
    "    x = data[:,0]\n",
    "    y = data[:,1]\n",
    "    w_gd = -(2.0/N) * x * (y - current_w * x - current_b)\n",
    "    b_gd = - (2.0/N) * (y - current_w * x - current_b)\n",
    "    \n",
    "    w_gd = np.sum(w_gd)\n",
    "    b_gd = np.sum(b_gd)\n",
    "    \n",
    "    new_w = current_w - learing_rate * w_gd\n",
    "    new_b = current_b - learing_rate * b_gd\n",
    "    \n",
    "    \n",
    "    return new_w, new_b\n",
    "    "
   ]
  },
  {
   "cell_type": "code",
   "execution_count": 84,
   "metadata": {},
   "outputs": [],
   "source": [
    "def optimizer(data, init_w, init_b, learning_rate, num_iter):\n",
    "    w = init_w\n",
    "    b = init_b\n",
    "    \n",
    "    for i in range(num_iter):\n",
    "        w, b = sgd(data, w, b, learning_rate)\n",
    "        if i % 100 == 0:\n",
    "            print ('iter {0}: w = {1}, b = {2}, error={3}'.format(i, w, b, compute_error(data, w, b)))\n",
    "        \n",
    "    return w, b \n",
    "        \n",
    "    "
   ]
  },
  {
   "cell_type": "code",
   "execution_count": 97,
   "metadata": {},
   "outputs": [],
   "source": [
    "def linear_regression(data):\n",
    "    # init\n",
    "    w = 0.0\n",
    "    b = 0.0\n",
    "    learning_rate = 1e-6\n",
    "    num_iter = 1000\n",
    "    \n",
    "    #training\n",
    "    w, b = optimizer(data, w, b, learning_rate, num_iter)\n",
    "\n",
    "    #print final error\n",
    "    print ('final formula parmaters:\\n w = {1}\\n b={2}\\n error of end = {3} \\n'.format(num_iter,w, b,compute_error(data, w, b)))\n",
    "\n",
    "    #plot result\n",
    "    plot_data(data, w,b)\n",
    "    \n"
   ]
  },
  {
   "cell_type": "code",
   "execution_count": 104,
   "metadata": {},
   "outputs": [],
   "source": [
    "def plot_data(data, w, b):\n",
    "\n",
    "    #plottting\n",
    "    x = data[:,0]\n",
    "    y = data[:,1]\n",
    "    y_predict = w * x + b\n",
    "    plt.scatter(x, y)\n",
    "    plt.plot(x, y_predict, 'kp-')\n",
    "    plt.show()\n",
    "#     pylab.plot(x, y ,'o')\n",
    "#     pylab.plot(x, y_predict, 'k-')\n",
    "#     pylab.show()"
   ]
  },
  {
   "cell_type": "code",
   "execution_count": 105,
   "metadata": {},
   "outputs": [
    {
     "name": "stdout",
     "output_type": "stream",
     "text": [
      "iter 0: w = 0.019483716513294325, b = 0.0003000474362710828, error=29308.701755409995\n",
      "iter 100: w = 1.4517774869230569, b = 0.022363666907253634, error=8154.338588313643\n",
      "iter 200: w = 2.2044725887657726, b = 0.033969993389769804, error=2312.16934171146\n",
      "iter 300: w = 2.600026774424162, b = 0.040080830035994434, error=698.7460823304843\n",
      "iter 400: w = 2.8078971991959025, b = 0.04330369067094855, error=253.16935867745656\n",
      "iter 500: w = 2.9171365444613913, b = 0.04500886914531809, error=130.11508852116677\n",
      "iter 600: w = 2.974543542602917, b = 0.04591647870231679, error=96.13136815681526\n",
      "iter 700: w = 3.00471174115481, b = 0.04640495137154888, error=86.74613002004266\n",
      "iter 800: w = 3.0205654769427492, b = 0.04667315976421695, error=84.15421840185982\n",
      "iter 900: w = 3.0288967136779696, b = 0.046825614895238836, error=83.43840973866881\n",
      "final formula parmaters:\n",
      " w = 3.0332434502235746\n",
      " b=0.046916514983187656\n",
      " error of end = 83.24169849059466 \n",
      "\n"
     ]
    },
    {
     "data": {
      "image/png": "[encoded data removed]",
      "text/plain": [
       "<matplotlib.figure.Figure at 0x1080a95c0>"
      ]
     },
     "metadata": {},
     "output_type": "display_data"
    }
   ],
   "source": [
    "if __name__ =='__main__':\n",
    "    data = np.loadtxt('Linear_Data.csv',delimiter=\",\")\n",
    "    linear_regression(data)\n",
    "#     x = data[:,0]\n",
    "#     y = data[:,1]\n",
    "#     plt.scatter(x, y)\n",
    "#     plt.show()"
   ]
  },
  {
   "cell_type": "code",
   "execution_count": null,
   "metadata": {},
   "outputs": [],
   "source": []
  },
  {
   "cell_type": "code",
   "execution_count": null,
   "metadata": {},
   "outputs": [],
   "source": []
  }
 ],
 "metadata": {
  "kernelspec": {
   "display_name": "Python 3",
   "language": "python",
   "name": "python3"
  },
  "language_info": {
   "codemirror_mode": {
    "name": "ipython",
    "version": 3
   },
   "file_extension": ".py",
   "mimetype": "text/x-python",
   "name": "python",
   "nbconvert_exporter": "python",
   "pygments_lexer": "ipython3",
   "version": "3.6.3"
  }
 },
 "nbformat": 4,
 "nbformat_minor": 2
}
