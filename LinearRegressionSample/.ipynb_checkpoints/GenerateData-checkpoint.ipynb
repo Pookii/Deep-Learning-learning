{
 "cells": [
  {
   "cell_type": "code",
   "execution_count": 57,
   "metadata": {
    "scrolled": true
   },
   "outputs": [
    {
     "data": {
      "image/png": "[encoded data removed]",
      "text/plain": [
       "<matplotlib.figure.Figure at 0x13ff3e7b8>"
      ]
     },
     "metadata": {},
     "output_type": "display_data"
    }
   ],
   "source": [
    "import matplotlib.pyplot as plt\n",
    "import numpy as np\n",
    "\n",
    "# generate data\n",
    "# y = 3*x + R (R ~ N(0, 0.01))\n",
    "X = np.random.randint(100, size=200)\n",
    "R = np.random.normal(0, 10, size=200)\n",
    "Y = [x*3+2 for x in X]\n",
    "Y = Y + R\n",
    "data = np.stack((X,Y), axis=1)\n",
    "# print(X)\n",
    "# print(Y)\n",
    "# print (data[:,0])\n",
    "# plt.figure(figsize=(50,100), dpi = 50)\n",
    "np.savetxt('Linear_Data.csv', data, delimiter = ',')\n",
    "plt.scatter(X, Y)\n",
    "plt.show()\n"
   ]
  },
  {
   "cell_type": "code",
   "execution_count": null,
   "metadata": {},
   "outputs": [],
   "source": []
  },
  {
   "cell_type": "code",
   "execution_count": null,
   "metadata": {},
   "outputs": [],
   "source": []
  }
 ],
 "metadata": {
  "kernelspec": {
   "display_name": "Python 3",
   "language": "python",
   "name": "python3"
  },
  "language_info": {
   "codemirror_mode": {
    "name": "ipython",
    "version": 3
   },
   "file_extension": ".py",
   "mimetype": "text/x-python",
   "name": "python",
   "nbconvert_exporter": "python",
   "pygments_lexer": "ipython3",
   "version": "3.6.3"
  }
 },
 "nbformat": 4,
 "nbformat_minor": 2
}
